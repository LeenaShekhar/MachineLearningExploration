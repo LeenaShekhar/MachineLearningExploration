{
 "cells": [
  {
   "cell_type": "code",
   "execution_count": 3,
   "metadata": {
    "collapsed": true
   },
   "outputs": [],
   "source": [
    "from __future__ import print_function\n",
    "\n",
    "import logging\n",
    "import numpy as np\n",
    "from optparse import OptionParser\n",
    "import sys\n",
    "from time import time\n",
    "import matplotlib.pyplot as plt\n",
    "\n",
    "from sklearn.datasets import fetch_20newsgroups\n",
    "from sklearn.feature_extraction.text import TfidfVectorizer\n",
    "from sklearn.feature_extraction.text import HashingVectorizer\n",
    "from sklearn.feature_selection import SelectKBest, chi2\n",
    "from sklearn.linear_model import RidgeClassifier\n",
    "from sklearn.pipeline import Pipeline\n",
    "from sklearn.svm import LinearSVC\n",
    "from sklearn.linear_model import SGDClassifier\n",
    "from sklearn.linear_model import Perceptron\n",
    "from sklearn.linear_model import PassiveAggressiveClassifier\n",
    "from sklearn.naive_bayes import BernoulliNB, MultinomialNB\n",
    "from sklearn.neighbors import KNeighborsClassifier\n",
    "from sklearn.neighbors import NearestCentroid\n",
    "from sklearn.ensemble import RandomForestClassifier\n",
    "from sklearn.utils.extmath import density\n",
    "from sklearn import metrics"
   ]
  },
  {
   "cell_type": "code",
   "execution_count": 10,
   "metadata": {
    "collapsed": true
   },
   "outputs": [],
   "source": [
    "categories = [\n",
    "        'rec.sport.hockey',\n",
    "        'sci.med',\n",
    "        'soc.religion.christian',\n",
    "        'talk.religion.misc',\n",
    "    ]"
   ]
  },
  {
   "cell_type": "code",
   "execution_count": 11,
   "metadata": {
    "collapsed": false
   },
   "outputs": [],
   "source": [
    "remove = ('headers', 'footers', 'quotes')\n",
    "data_train = fetch_20newsgroups(subset='train', categories=categories,\n",
    "                                shuffle=True, random_state=42,\n",
    "                                remove=remove)\n",
    "\n",
    "data_test = fetch_20newsgroups(subset='test', categories=categories,\n",
    "                               shuffle=True, random_state=42,\n",
    "                               remove=remove)\n",
    "\n",
    "target_names = data_train.target_names"
   ]
  },
  {
   "cell_type": "code",
   "execution_count": 15,
   "metadata": {
    "collapsed": false
   },
   "outputs": [
    {
     "name": "stdout",
     "output_type": "stream",
     "text": [
      "2170 documents - 2.918MB (training set)\n",
      "1444 documents - 1.954MB (test set)\n",
      "4 categories\n",
      "\n"
     ]
    }
   ],
   "source": [
    "def size_mb(docs):\n",
    "    return sum(len(s.encode('utf-8')) for s in docs) / 1e6\n",
    "\n",
    "data_train_size_mb = size_mb(data_train.data)\n",
    "data_test_size_mb = size_mb(data_test.data)\n",
    "\n",
    "print(\"%d documents - %0.3fMB (training set)\" % (\n",
    "    len(data_train.data), data_train_size_mb))\n",
    "print(\"%d documents - %0.3fMB (test set)\" % (\n",
    "    len(data_test.data), data_test_size_mb))\n",
    "print(\"%d categories\" % len(categories))\n",
    "print()"
   ]
  },
  {
   "cell_type": "code",
   "execution_count": 16,
   "metadata": {
    "collapsed": true
   },
   "outputs": [],
   "source": [
    "y_train, y_test = data_train.target, data_test.target"
   ]
  },
  {
   "cell_type": "code",
   "execution_count": 18,
   "metadata": {
    "collapsed": true
   },
   "outputs": [],
   "source": [
    "vectorizer = TfidfVectorizer(sublinear_tf=True, max_df=0.5,\n",
    "                                 stop_words='english')\n",
    "X_train = vectorizer.fit_transform(data_train.data)\n",
    "X_test = vectorizer.transform(data_test.data)\n",
    "feature_names = vectorizer.get_feature_names()"
   ]
  },
  {
   "cell_type": "code",
   "execution_count": 42,
   "metadata": {
    "collapsed": false
   },
   "outputs": [
    {
     "name": "stdout",
     "output_type": "stream",
     "text": [
      "________________________________________________________________________________\n",
      "Training: \n",
      "MultinomialNB(alpha=0.01, class_prior=None, fit_prior=True)\n",
      "accuracy:   0.822\n",
      "dimensionality: 28289\n",
      "density: 1.000000\n",
      "classification report:\n",
      "                        precision    recall  f1-score   support\n",
      "\n",
      "      rec.sport.hockey       0.89      0.96      0.92       399\n",
      "               sci.med       0.92      0.87      0.89       396\n",
      "soc.religion.christian       0.71      0.89      0.79       398\n",
      "    talk.religion.misc       0.76      0.42      0.54       251\n",
      "\n",
      "           avg / total       0.83      0.82      0.81      1444\n",
      "\n",
      "confusion matrix:\n",
      "[[382   5  10   2]\n",
      " [ 17 344  27   8]\n",
      " [ 15   4 356  23]\n",
      " [ 14  21 111 105]]\n",
      "\n",
      "('MultinomialNB', 0.82202216066481992)\n",
      "________________________________________________________________________________\n",
      "Training: \n",
      "BernoulliNB(alpha=0.01, binarize=0.0, class_prior=None, fit_prior=True)\n",
      "accuracy:   0.801\n",
      "dimensionality: 28289\n",
      "density: 1.000000\n",
      "classification report:\n",
      "                        precision    recall  f1-score   support\n",
      "\n",
      "      rec.sport.hockey       0.86      0.97      0.91       399\n",
      "               sci.med       0.89      0.87      0.88       396\n",
      "soc.religion.christian       0.79      0.72      0.75       398\n",
      "    talk.religion.misc       0.57      0.55      0.56       251\n",
      "\n",
      "           avg / total       0.80      0.80      0.80      1444\n",
      "\n",
      "confusion matrix:\n",
      "[[386   6   3   4]\n",
      " [ 25 346   7  18]\n",
      " [ 18  10 285  85]\n",
      " [ 19  25  68 139]]\n",
      "\n",
      "('BernoulliNB', 0.80055401662049863)\n",
      "________________________________________________________________________________\n",
      "Training: \n",
      "RandomForestClassifier(bootstrap=True, class_weight=None, criterion='gini',\n",
      "            max_depth=None, max_features='auto', max_leaf_nodes=None,\n",
      "            min_samples_leaf=1, min_samples_split=2,\n",
      "            min_weight_fraction_leaf=0.0, n_estimators=100, n_jobs=1,\n",
      "            oob_score=False, random_state=None, verbose=0,\n",
      "            warm_start=False)\n",
      "accuracy:   0.780\n",
      "classification report:\n",
      "                        precision    recall  f1-score   support\n",
      "\n",
      "      rec.sport.hockey       0.83      0.95      0.89       399\n",
      "               sci.med       0.81      0.86      0.83       396\n",
      "soc.religion.christian       0.73      0.84      0.78       398\n",
      "    talk.religion.misc       0.67      0.29      0.40       251\n",
      "\n",
      "           avg / total       0.77      0.78      0.76      1444\n",
      "\n",
      "confusion matrix:\n",
      "[[380  10   4   5]\n",
      " [ 37 339   9  11]\n",
      " [ 19  23 336  20]\n",
      " [ 20  46 113  72]]\n",
      "\n",
      "('RandomForestClassifier', 0.78047091412742386)\n",
      "________________________________________________________________________________\n",
      "Training: \n",
      "SGDClassifier(alpha=0.0001, average=False, class_weight=None, epsilon=0.1,\n",
      "       eta0=0.0, fit_intercept=True, l1_ratio=0.15,\n",
      "       learning_rate='optimal', loss='log', n_iter=50, n_jobs=1,\n",
      "       penalty='l2', power_t=0.5, random_state=None, shuffle=True,\n",
      "       verbose=0, warm_start=False)\n",
      "accuracy:   0.821\n",
      "dimensionality: 28289\n",
      "density: 1.000000\n",
      "classification report:\n",
      "                        precision    recall  f1-score   support\n",
      "\n",
      "      rec.sport.hockey       0.97      0.93      0.95       399\n",
      "               sci.med       0.80      0.94      0.86       396\n",
      "soc.religion.christian       0.75      0.87      0.80       398\n",
      "    talk.religion.misc       0.73      0.39      0.51       251\n",
      "\n",
      "           avg / total       0.82      0.82      0.81      1444\n",
      "\n",
      "confusion matrix:\n",
      "[[372  16   8   3]\n",
      " [  5 371  10  10]\n",
      " [  2  28 345  23]\n",
      " [  5  50  98  98]]\n",
      "\n",
      "('SGDClassifier', 0.82132963988919672)\n",
      "________________________________________________________________________________\n",
      "Training: \n",
      "SGDClassifier(alpha=0.0001, average=False, class_weight=None, epsilon=0.1,\n",
      "       eta0=0.0, fit_intercept=True, l1_ratio=0.15,\n",
      "       learning_rate='optimal', loss='hinge', n_iter=50, n_jobs=1,\n",
      "       penalty='l2', power_t=0.5, random_state=None, shuffle=True,\n",
      "       verbose=0, warm_start=False)\n",
      "accuracy:   0.807\n",
      "dimensionality: 28289\n",
      "density: 0.665382\n",
      "classification report:\n",
      "                        precision    recall  f1-score   support\n",
      "\n",
      "      rec.sport.hockey       0.95      0.91      0.93       399\n",
      "               sci.med       0.81      0.92      0.86       396\n",
      "soc.religion.christian       0.74      0.80      0.77       398\n",
      "    talk.religion.misc       0.64      0.47      0.54       251\n",
      "\n",
      "           avg / total       0.80      0.81      0.80      1444\n",
      "\n",
      "confusion matrix:\n",
      "[[364  16  11   8]\n",
      " [  9 364  13  10]\n",
      " [  2  29 320  47]\n",
      " [  8  38  87 118]]\n",
      "\n",
      "('SGDClassifier', 0.80747922437673125)\n"
     ]
    }
   ],
   "source": [
    "print(benchmark(MultinomialNB(alpha=.01)))\n",
    "print(benchmark(BernoulliNB(alpha=.01)))\n",
    "print(benchmark(RandomForestClassifier(n_estimators=100)))\n",
    "print(benchmark(SGDClassifier(loss='log', alpha=.0001, n_iter=50, penalty=\"l2\")))\n",
    "print(benchmark(SGDClassifier(loss='hinge', alpha=.0001, n_iter=50, penalty=\"l2\")))"
   ]
  },
  {
   "cell_type": "code",
   "execution_count": 33,
   "metadata": {
    "collapsed": true
   },
   "outputs": [],
   "source": [
    "def benchmark(clf):\n",
    "    print('_' * 80)\n",
    "    print(\"Training: \")\n",
    "    print(clf)\n",
    "    \n",
    "    clf.fit(X_train, y_train)\n",
    "\n",
    "    pred = clf.predict(X_test)\n",
    "\n",
    "    score = metrics.accuracy_score(y_test, pred)\n",
    "    print(\"accuracy:   %0.3f\" % score)\n",
    "\n",
    "    if hasattr(clf, 'coef_'):\n",
    "        print(\"dimensionality: %d\" % clf.coef_.shape[1])\n",
    "        print(\"density: %f\" % density(clf.coef_))\n",
    "    \n",
    "    print(\"classification report:\")\n",
    "    print(metrics.classification_report(y_test, pred, target_names=target_names))\n",
    "\n",
    "    \n",
    "    print(\"confusion matrix:\")\n",
    "    print(metrics.confusion_matrix(y_test, pred))\n",
    "\n",
    "    print()\n",
    "    clf_descr = str(clf).split('(')[0]\n",
    "    return clf_descr, score"
   ]
  },
  {
   "cell_type": "code",
   "execution_count": null,
   "metadata": {
    "collapsed": true
   },
   "outputs": [],
   "source": []
  }
 ],
 "metadata": {
  "anaconda-cloud": {},
  "kernelspec": {
   "display_name": "Python [conda root]",
   "language": "python",
   "name": "conda-root-py"
  },
  "language_info": {
   "codemirror_mode": {
    "name": "ipython",
    "version": 3
   },
   "file_extension": ".py",
   "mimetype": "text/x-python",
   "name": "python",
   "nbconvert_exporter": "python",
   "pygments_lexer": "ipython3",
   "version": "3.5.2"
  }
 },
 "nbformat": 4,
 "nbformat_minor": 1
}
